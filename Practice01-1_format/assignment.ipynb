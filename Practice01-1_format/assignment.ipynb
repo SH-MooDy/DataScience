{
 "cells": [
  {
   "cell_type": "code",
   "execution_count": 9,
   "metadata": {},
   "outputs": [],
   "source": [
    "# 텍스트 파일을 쓰기 모드('w')로 열고, UTF-8-SIG 인코딩을 사용하여 파일 객체 생성\n",
    "data_file = open('00_data/text_data_write.txt', 'w', encoding='utf-8-sig')\n",
    "\n",
    "# 파일에 학교 이름을 개행 문자(\\n)와 함께 저장\n",
    "data_file.write('유치원A\\n초등학교B\\n중학교C\\n고등학교D\\n')\n",
    "\n",
    "# 파일을 닫아 변경 사항을 저장하고 리소스를 해제\n",
    "data_file.close()\n"
   ]
  },
  {
   "cell_type": "code",
   "execution_count": 10,
   "metadata": {},
   "outputs": [],
   "source": [
    "# 텍스트 파일을 추가 모드('a')로 열고, UTF-8-SIG 인코딩을 사용하여 파일 객체 생성\n",
    "data_file = open('00_data/text_data_write.txt', 'a', encoding='utf-8-sig')\n",
    "\n",
    "# 파일 끝에 '대학교E\\n'을 추가\n",
    "data_file.write('대학교E\\n')\n",
    "\n",
    "# 파일을 닫아 변경 사항을 저장하고 리소스를 해제\n",
    "data_file.close()\n"
   ]
  },
  {
   "cell_type": "code",
   "execution_count": 8,
   "metadata": {},
   "outputs": [
    {
     "name": "stdout",
     "output_type": "stream",
     "text": [
      "유치원A\n",
      "초등학교B\n",
      "중학교C\n",
      "고등학교D\n",
      "대학교E\n"
     ]
    }
   ],
   "source": [
    "# 텍스트트 파일을 읽기 모드('r')로 열고, UTF-8-SIG 인코딩을 사용하여 파일 객체 생성\n",
    "data_file = open('00_data/text_data_write.txt', 'r', encoding='utf-8-sig')\n",
    "\n",
    "# 파일의 모든 줄을 리스트 형태로 읽어오기기\n",
    "data_lines = data_file.readlines()\n",
    "\n",
    "# 읽어온 각 줄을 반복하여 출력\n",
    "for data_line in data_lines:\n",
    "    data_line = data_line.strip()  # 각 줄에서 개행 문자 제거\n",
    "    print(data_line)  # 출력\n",
    "\n",
    "# 파일을 닫아 리소스를 해제\n",
    "data_file.close()\n"
   ]
  }
 ],
 "metadata": {
  "kernelspec": {
   "display_name": "dataSc",
   "language": "python",
   "name": "python3"
  },
  "language_info": {
   "codemirror_mode": {
    "name": "ipython",
    "version": 3
   },
   "file_extension": ".py",
   "mimetype": "text/x-python",
   "name": "python",
   "nbconvert_exporter": "python",
   "pygments_lexer": "ipython3",
   "version": "3.12.9"
  }
 },
 "nbformat": 4,
 "nbformat_minor": 2
}
